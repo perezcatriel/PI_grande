{
  "nbformat": 4,
  "nbformat_minor": 0,
  "metadata": {
    "colab": {
      "private_outputs": true,
      "provenance": []
    },
    "kernelspec": {
      "name": "python3",
      "display_name": "Python 3"
    },
    "language_info": {
      "name": "python"
    }
  },
  "cells": [
    {
      "cell_type": "code",
      "execution_count": null,
      "metadata": {
        "id": "oyzGQgyw2yJ4"
      },
      "outputs": [],
      "source": [
        "import numpy as np\n",
        "import pandas as pd\n",
        "from pandas_profiling import ProfileReport"
      ]
    },
    {
      "cell_type": "code",
      "source": [
        "movies = pd.read_csv('df_final.csv')"
      ],
      "metadata": {
        "id": "X_cXlQ035Sm6"
      },
      "execution_count": null,
      "outputs": []
    },
    {
      "cell_type": "code",
      "source": [
        "movies.isnull().sum()"
      ],
      "metadata": {
        "id": "z77SwTC95cSc"
      },
      "execution_count": null,
      "outputs": []
    },
    {
      "cell_type": "code",
      "source": [
        "movies_profile = ProfileReport(movies, title=\"Movies Report\", explorative=True)\n",
        "movies_profile"
      ],
      "metadata": {
        "id": "4zzf1FF35zgr"
      },
      "execution_count": null,
      "outputs": []
    },
    {
      "cell_type": "markdown",
      "source": [
        "Faltan datos pero no afectan el funcionamiento"
      ],
      "metadata": {
        "id": "NuFWGD-R8yCR"
      }
    },
    {
      "cell_type": "code",
      "source": [
        "scores = pd.read_csv('scores.csv')"
      ],
      "metadata": {
        "id": "MUORw8cF8xrS"
      },
      "execution_count": null,
      "outputs": []
    },
    {
      "cell_type": "code",
      "source": [
        "scores.drop_duplicates(inplace=True)"
      ],
      "metadata": {
        "id": "YfMPoobi9AC5"
      },
      "execution_count": null,
      "outputs": []
    },
    {
      "cell_type": "code",
      "source": [
        "scores.to_csv('scores.csv', index=False)"
      ],
      "metadata": {
        "id": "86qkMTa39JgE"
      },
      "execution_count": null,
      "outputs": []
    },
    {
      "cell_type": "code",
      "source": [
        "scores_profile = ProfileReport(scores, title=\"Scores Repor\", explorative=True)\n",
        "scores_profile"
      ],
      "metadata": {
        "id": "AChKupe19PzS"
      },
      "execution_count": null,
      "outputs": []
    },
    {
      "cell_type": "markdown",
      "source": [
        "Despues de una pequeña limpieza esta lista para usar"
      ],
      "metadata": {
        "id": "X2dVIIuM9xjR"
      }
    }
  ]
}