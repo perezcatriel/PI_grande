{
  "nbformat": 4,
  "nbformat_minor": 0,
  "metadata": {
    "colab": {
      "private_outputs": true,
      "provenance": []
    },
    "kernelspec": {
      "name": "python3",
      "display_name": "Python 3"
    },
    "language_info": {
      "name": "python"
    }
  },
  "cells": [
    {
      "cell_type": "code",
      "source": [
        "!pip install surprise"
      ],
      "metadata": {
        "id": "fX4Ybx3_Al5F"
      },
      "execution_count": null,
      "outputs": []
    },
    {
      "cell_type": "code",
      "execution_count": null,
      "metadata": {
        "id": "P5cqPsfr-Y-b"
      },
      "outputs": [],
      "source": [
        "import pandas as pd\n",
        "import numpy as np\n",
        "import matplotlib.pyplot as plt\n",
        "from surprise import SVD\n",
        "from surprise import Dataset\n",
        "from surprise import Reader\n",
        "from surprise.model_selection import train_test_split, cross_validate\n",
        "from surprise import accuracy"
      ]
    },
    {
      "cell_type": "code",
      "source": [
        "scores = pd.read_csv('scores.csv')"
      ],
      "metadata": {
        "id": "tUexKoOh-wYl"
      },
      "execution_count": null,
      "outputs": []
    },
    {
      "cell_type": "code",
      "source": [
        "scores['scores'] = np.float16(scores['scores'])"
      ],
      "metadata": {
        "id": "YFDoUgLn_W3S"
      },
      "execution_count": null,
      "outputs": []
    },
    {
      "cell_type": "code",
      "source": [
        "movies = pd.read_csv('df_final.csv')"
      ],
      "metadata": {
        "id": "sKO8o96HD23V"
      },
      "execution_count": null,
      "outputs": []
    },
    {
      "cell_type": "code",
      "source": [
        "reader = Reader(rating_scale=(1, 5))"
      ],
      "metadata": {
        "id": "VStn4GptD9o2"
      },
      "execution_count": null,
      "outputs": []
    },
    {
      "cell_type": "code",
      "source": [
        "data = Dataset.load_from_df(scores[['userId', 'movieId', 'scores']], reader)"
      ],
      "metadata": {
        "id": "lezC9B75EFFv"
      },
      "execution_count": null,
      "outputs": []
    },
    {
      "cell_type": "code",
      "source": [
        "train_set, test_set = train_test_split(data, test_size=.2, random_state=21)"
      ],
      "metadata": {
        "id": "RrJ17TnJHiql"
      },
      "execution_count": null,
      "outputs": []
    },
    {
      "cell_type": "code",
      "source": [
        "model = SVD()"
      ],
      "metadata": {
        "id": "Tc1hDZQ3H9Hw"
      },
      "execution_count": null,
      "outputs": []
    },
    {
      "cell_type": "code",
      "source": [
        "model.fit(train_set)"
      ],
      "metadata": {
        "id": "fe2IwuU1IAwa"
      },
      "execution_count": null,
      "outputs": []
    },
    {
      "cell_type": "code",
      "source": [
        "predictions = model.test(test_set)"
      ],
      "metadata": {
        "id": "8-JCyn2OIDu0"
      },
      "execution_count": null,
      "outputs": []
    },
    {
      "cell_type": "code",
      "source": [
        "rmse = accuracy.rmse(predictions)"
      ],
      "metadata": {
        "id": "2zHKFQ2pIJfo"
      },
      "execution_count": null,
      "outputs": []
    },
    {
      "cell_type": "code",
      "source": [
        "rmse_test_means = []\n",
        "factors = [1,2,3,5,8,13,21,34,55,89,144,233]\n",
        "\n",
        "for factor in factors:\n",
        "    print(factor)\n",
        "    model = SVD(n_factors=factor)\n",
        "    cv = cross_validate(model, data, measures=['RMSE'], cv= 3, verbose=True)\n",
        "    rmse_test_means.append(np.mean(cv['test_rmse']))"
      ],
      "metadata": {
        "id": "cmClspX0IQ_F"
      },
      "execution_count": null,
      "outputs": []
    },
    {
      "cell_type": "code",
      "source": [
        "plt.scatter(factors, rmse_test_means)\n",
        "plt.xlabel('Number of Factors')\n",
        "plt.ylabel('RMSE Error')\n",
        "plt.show()"
      ],
      "metadata": {
        "id": "v-95YL-hcb6q"
      },
      "execution_count": null,
      "outputs": []
    },
    {
      "cell_type": "code",
      "source": [
        "# Function to Evaluate and predict if the movie is recommender for the user or not.\n",
        "def evaluate_recommendation_movie(userId, movieId):\n",
        "    \n",
        "    # Get the title of the introduced movie\n",
        "    movie_title = movies[movies.id == movieId].title.iloc[0].title()\n",
        "\n",
        "    # Evaluate the movie using the model\n",
        "    prediction = model.predict(userId,str(movieId))\n",
        "\n",
        "    if prediction.est > 3.6:\n",
        "        return \"Of course, get some popcorn and enjoy\", prediction.est, movie_title\n",
        "    else:\n",
        "        return \"No, you will sleep in the middle\", prediction.est, movie_title"
      ],
      "metadata": {
        "id": "O1veaKa7cdOG"
      },
      "execution_count": null,
      "outputs": []
    },
    {
      "cell_type": "code",
      "source": [
        "!pip install gradio"
      ],
      "metadata": {
        "id": "KAkigLqLhH2X"
      },
      "execution_count": null,
      "outputs": []
    },
    {
      "cell_type": "code",
      "source": [
        "# --------------\n",
        "# Interface Part\n",
        "# --------------\n",
        "\n",
        "# Import Gradio Library\n",
        "import gradio as gr\n",
        "    \n",
        "title = str(\"Movie Recommendation System\")\n",
        "\n",
        "with gr.Blocks(title= title) as demo:\n",
        "    with gr.Row():\n",
        "        with gr.Column(scale=0.5, min_width=600):\n",
        "            userId = gr.inputs.Number(label=\"Introduce your User ID\")\n",
        "            movieId = gr.Textbox(label=\"Introduce your Movie ID\")\n",
        "            evaluate_recommendation_movie_btn = gr.Button(\"Evaluate if the movie is for you\")\n",
        "            movie_title = gr.Textbox(label = \"Film:\")\n",
        "            output = gr.Textbox(label=\"Will I enjoy the movie?\")\n",
        "            score = gr.Textbox(label=\"Predicted Score:\")\n",
        "            evaluate_recommendation_movie_btn.click(fn=evaluate_recommendation_movie, inputs=[userId,movieId], outputs=[output, score, movie_title])\n",
        "\n",
        "demo.launch(share = True)"
      ],
      "metadata": {
        "id": "cA4iFcN2clH-"
      },
      "execution_count": null,
      "outputs": []
    }
  ]
}